{
 "cells": [
  {
   "cell_type": "code",
   "execution_count": 1,
   "id": "74859ef0",
   "metadata": {},
   "outputs": [
    {
     "name": "stdout",
     "output_type": "stream",
     "text": [
      "Hello World! My name is Avishek Saha\n"
     ]
    }
   ],
   "source": [
    "#Display the text “Hello World! My name is ....\"\n",
    "name = \"Avishek Saha\"\n",
    "print('Hello World! My name is',name)"
   ]
  },
  {
   "cell_type": "code",
   "execution_count": 9,
   "id": "e9a95b21",
   "metadata": {},
   "outputs": [
    {
     "name": "stdout",
     "output_type": "stream",
     "text": [
      "Sum:  40\n"
     ]
    }
   ],
   "source": [
    "# Add two numbers together\n",
    "num1 = 17\n",
    "num2 = 23\n",
    "sum = num1+num2\n",
    "print(\"Sum: \",sum)"
   ]
  },
  {
   "cell_type": "code",
   "execution_count": 10,
   "id": "f1d472f3",
   "metadata": {},
   "outputs": [
    {
     "name": "stdout",
     "output_type": "stream",
     "text": [
      "Difference:  -6\n"
     ]
    }
   ],
   "source": [
    "# Subtract a number from another number\n",
    "num1 = 17\n",
    "num2 = 23\n",
    "diff = num1-num2\n",
    "print(\"Difference: \",diff)"
   ]
  },
  {
   "cell_type": "code",
   "execution_count": 11,
   "id": "738efd2e",
   "metadata": {},
   "outputs": [
    {
     "name": "stdout",
     "output_type": "stream",
     "text": [
      "Multiply:  391\n"
     ]
    }
   ],
   "source": [
    "# Multiply two numbers\n",
    "num1 = 17\n",
    "num2 = 23\n",
    "multResult = num1*num2\n",
    "print(\"Multiply: \",multResult)"
   ]
  },
  {
   "cell_type": "code",
   "execution_count": 12,
   "id": "27409dfd",
   "metadata": {},
   "outputs": [
    {
     "name": "stdout",
     "output_type": "stream",
     "text": [
      "Divide:  5.0\n"
     ]
    }
   ],
   "source": [
    "# Divide between two numbers\n",
    "num1 = 150\n",
    "num2 = 30\n",
    "divResult = num1/num2\n",
    "print(\"Divide: \",divResult)"
   ]
  },
  {
   "cell_type": "code",
   "execution_count": 15,
   "id": "86c52683",
   "metadata": {},
   "outputs": [
    {
     "name": "stdout",
     "output_type": "stream",
     "text": [
      "Waiting to learn Data Science from Cary Jim\n"
     ]
    }
   ],
   "source": [
    "# Concatenate two strings together (any words)\n",
    "str1 = 'Waiting to learn Data Science from'\n",
    "str2 = ' Cary Jim'\n",
    "print(str1+str2)"
   ]
  },
  {
   "cell_type": "code",
   "execution_count": 23,
   "id": "a82670e2",
   "metadata": {},
   "outputs": [
    {
     "name": "stdout",
     "output_type": "stream",
     "text": [
      "List Elements:  [33, 'Wonder', 34.65, ' World']\n"
     ]
    }
   ],
   "source": [
    "# Create a list of 4 items (can be strings, numbers, both)\n",
    "list1 = [33,\"Wonder\" ,34.65,' World']\n",
    "print('List Elements: ',list1)"
   ]
  },
  {
   "cell_type": "code",
   "execution_count": 24,
   "id": "61cd551e",
   "metadata": {},
   "outputs": [
    {
     "name": "stdout",
     "output_type": "stream",
     "text": [
      "List Elements:  [33, 'Wonder', 34.65, ' World', 'Included new']\n"
     ]
    }
   ],
   "source": [
    "# Append an item to your list (again, can be a string, number)\n",
    "list1.append('Included new')\n",
    "print('List Elements: ',list1)"
   ]
  },
  {
   "cell_type": "code",
   "execution_count": 27,
   "id": "5b282289",
   "metadata": {},
   "outputs": [
    {
     "name": "stdout",
     "output_type": "stream",
     "text": [
      "('apple', 16, 'cherry', 'apple')\n"
     ]
    }
   ],
   "source": [
    "# Create a tuple with 4 items (can be strings, numbers, both)\n",
    "thistuple = (\"apple\", 16, \"cherry\", \"apple\")\n",
    "print(thistuple)"
   ]
  }
 ],
 "metadata": {
  "kernelspec": {
   "display_name": "Python 3 (ipykernel)",
   "language": "python",
   "name": "python3"
  },
  "language_info": {
   "codemirror_mode": {
    "name": "ipython",
    "version": 3
   },
   "file_extension": ".py",
   "mimetype": "text/x-python",
   "name": "python",
   "nbconvert_exporter": "python",
   "pygments_lexer": "ipython3",
   "version": "3.10.9"
  }
 },
 "nbformat": 4,
 "nbformat_minor": 5
}
